{
  "cells": [
    {
      "cell_type": "markdown",
      "metadata": {
        "id": "view-in-github",
        "colab_type": "text"
      },
      "source": [
        "<a href=\"https://colab.research.google.com/github/siddheshdhavale/Data_Science_NBC/blob/main/Siddhesh_Dhavale_NBC_Assignment.ipynb\" target=\"_parent\"><img src=\"https://colab.research.google.com/assets/colab-badge.svg\" alt=\"Open In Colab\"/></a>"
      ]
    },
    {
      "cell_type": "code",
      "execution_count": null,
      "metadata": {
        "colab": {
          "base_uri": "https://localhost:8080/"
        },
        "id": "a353e46b",
        "outputId": "fa7c40b3-9825-4a86-8b00-e25cb07d3e80"
      },
      "outputs": [
        {
          "output_type": "stream",
          "name": "stdout",
          "text": [
            "Looking in indexes: https://pypi.org/simple, https://us-python.pkg.dev/colab-wheels/public/simple/\n",
            "Collecting google_play_scraper\n",
            "  Downloading google_play_scraper-1.2.3-py3-none-any.whl (28 kB)\n",
            "Installing collected packages: google_play_scraper\n",
            "Successfully installed google_play_scraper-1.2.3\n"
          ]
        }
      ],
      "source": [
        "# Import necessary libraries\n",
        "!pip install google_play_scraper\n",
        "import pandas as pd\n",
        "import numpy as np\n",
        "import matplotlib.pyplot as plt\n",
        "import seaborn as sns\n",
        "from google_play_scraper import app, Sort, reviews_all"
      ],
      "id": "a353e46b"
    },
    {
      "cell_type": "code",
      "execution_count": null,
      "metadata": {
        "colab": {
          "base_uri": "https://localhost:8080/"
        },
        "id": "baUYQ4-lpMWg",
        "outputId": "b6f97bb5-7747-4d53-b9bd-d956b4bd1c5c"
      },
      "outputs": [
        {
          "output_type": "stream",
          "name": "stdout",
          "text": [
            "Collected 42639 reviews\n",
            "Total reviews collected: 42639\n"
          ]
        }
      ],
      "source": [
        "from google_play_scraper import reviews_all, Sort\n",
        "\n",
        "app_id = 'com.myfitnesspal.android'\n",
        "reviews = []\n",
        "count = 0\n",
        "\n",
        "while count < 10000:\n",
        "    # Request new reviews starting from the last review ID already collected\n",
        "    new_reviews = reviews_all(\n",
        "        app_id,\n",
        "        sleep_milliseconds=0,\n",
        "        lang='chi',\n",
        "        country='us',\n",
        "        sort=Sort.NEWEST,\n",
        "        count=500,  # Request 500 reviews per iteration\n",
        "        filter_score_with=1  # Only collect 1-star reviews\n",
        "    )\n",
        "    if len(new_reviews) == 0:\n",
        "        break  # Stop the loop if there are no more reviews to scrape\n",
        "    reviews.extend(new_reviews)\n",
        "    count += len(new_reviews)\n",
        "    print(f\"Collected {count} reviews\")\n",
        "\n",
        "print(f\"Total reviews collected: {len(reviews)}\")\n"
      ],
      "id": "baUYQ4-lpMWg"
    },
    {
      "cell_type": "code",
      "execution_count": null,
      "metadata": {
        "id": "afe728a2"
      },
      "outputs": [],
      "source": [
        "# Define and configure Google Play Scraper library\n",
        "hk_users_reviews = reviews_all(\n",
        "    'com.myfitnesspal.android',\n",
        "    sleep_milliseconds=0,\n",
        "    lang='chi', # Default language is 'en', set language to Chinese.\n",
        "    country='us', # Default country is 'us', set country to Hong Kong.\n",
        "    sort=Sort.NEWEST, # Default is Sort.MOST_RELEVANT.\n",
        ")"
      ],
      "id": "afe728a2"
    },
    {
      "cell_type": "code",
      "execution_count": null,
      "metadata": {
        "colab": {
          "base_uri": "https://localhost:8080/",
          "height": 337
        },
        "id": "b27bb340",
        "outputId": "86884aff-c693-43fe-8d80-69e2f0b082d0"
      },
      "outputs": [
        {
          "output_type": "execute_result",
          "data": {
            "text/plain": [
              "                               reviewId                userName  \\\n",
              "0  2184769d-97f6-46be-b84f-b675c78efde3              Kassie Lee   \n",
              "1  9c77766e-114a-4d1c-afac-826c4287d460  Zachary Johnson-Dunlop   \n",
              "2  20fa1d9e-94d6-4d82-aa23-c52b6ac89ec5                   Brian   \n",
              "3  ebebd401-ce30-41bf-aab5-62450058d69b                     V S   \n",
              "4  35011d11-642c-48cd-b479-ea919d55ac27            Taylor Jones   \n",
              "\n",
              "                                           userImage  \\\n",
              "0  https://play-lh.googleusercontent.com/a/AGNmyx...   \n",
              "1  https://play-lh.googleusercontent.com/a/AGNmyx...   \n",
              "2  https://play-lh.googleusercontent.com/a/AGNmyx...   \n",
              "3  https://play-lh.googleusercontent.com/a/AGNmyx...   \n",
              "4  https://play-lh.googleusercontent.com/a/AGNmyx...   \n",
              "\n",
              "                                             content  score  thumbsUpCount  \\\n",
              "0  $20/month for premium?!? Are you kidding me? N...      1              0   \n",
              "1  I used the unpaid version. You can't edit or s...      1              0   \n",
              "2     Used t be free bt now it's pay for everything.      3              0   \n",
              "3  I love it. it helped me lose 20 lbs and tracks...      5              0   \n",
              "4  With the help of the workout and meal tracking...      5              0   \n",
              "\n",
              "  reviewCreatedVersion                  at  \\\n",
              "0               23.7.0 2023-04-12 16:34:56   \n",
              "1               23.7.0 2023-04-12 16:02:53   \n",
              "2               23.6.0 2023-04-12 15:52:32   \n",
              "3               23.5.0 2023-04-12 15:30:30   \n",
              "4               23.6.0 2023-04-12 15:16:34   \n",
              "\n",
              "                                        replyContent           repliedAt  \n",
              "0  Hi Kassie! Thank you for providing this feedba... 2023-04-12 17:16:30  \n",
              "1  Hi Zachary, our apologies for any problems you... 2023-04-12 17:15:50  \n",
              "2  Hi Brian! We do apologize for the confusion. T... 2023-04-12 17:15:20  \n",
              "3  Thank you for your review of MyFitnessPal, we ... 2023-04-12 17:14:35  \n",
              "4  Hi Taylor, we are thrilled to hear you have be... 2023-04-12 17:14:19  "
            ],
            "text/html": [
              "\n",
              "  <div id=\"df-b3611626-0ea7-477e-bfc0-2df2446b10be\">\n",
              "    <div class=\"colab-df-container\">\n",
              "      <div>\n",
              "<style scoped>\n",
              "    .dataframe tbody tr th:only-of-type {\n",
              "        vertical-align: middle;\n",
              "    }\n",
              "\n",
              "    .dataframe tbody tr th {\n",
              "        vertical-align: top;\n",
              "    }\n",
              "\n",
              "    .dataframe thead th {\n",
              "        text-align: right;\n",
              "    }\n",
              "</style>\n",
              "<table border=\"1\" class=\"dataframe\">\n",
              "  <thead>\n",
              "    <tr style=\"text-align: right;\">\n",
              "      <th></th>\n",
              "      <th>reviewId</th>\n",
              "      <th>userName</th>\n",
              "      <th>userImage</th>\n",
              "      <th>content</th>\n",
              "      <th>score</th>\n",
              "      <th>thumbsUpCount</th>\n",
              "      <th>reviewCreatedVersion</th>\n",
              "      <th>at</th>\n",
              "      <th>replyContent</th>\n",
              "      <th>repliedAt</th>\n",
              "    </tr>\n",
              "  </thead>\n",
              "  <tbody>\n",
              "    <tr>\n",
              "      <th>0</th>\n",
              "      <td>2184769d-97f6-46be-b84f-b675c78efde3</td>\n",
              "      <td>Kassie Lee</td>\n",
              "      <td>https://play-lh.googleusercontent.com/a/AGNmyx...</td>\n",
              "      <td>$20/month for premium?!? Are you kidding me? N...</td>\n",
              "      <td>1</td>\n",
              "      <td>0</td>\n",
              "      <td>23.7.0</td>\n",
              "      <td>2023-04-12 16:34:56</td>\n",
              "      <td>Hi Kassie! Thank you for providing this feedba...</td>\n",
              "      <td>2023-04-12 17:16:30</td>\n",
              "    </tr>\n",
              "    <tr>\n",
              "      <th>1</th>\n",
              "      <td>9c77766e-114a-4d1c-afac-826c4287d460</td>\n",
              "      <td>Zachary Johnson-Dunlop</td>\n",
              "      <td>https://play-lh.googleusercontent.com/a/AGNmyx...</td>\n",
              "      <td>I used the unpaid version. You can't edit or s...</td>\n",
              "      <td>1</td>\n",
              "      <td>0</td>\n",
              "      <td>23.7.0</td>\n",
              "      <td>2023-04-12 16:02:53</td>\n",
              "      <td>Hi Zachary, our apologies for any problems you...</td>\n",
              "      <td>2023-04-12 17:15:50</td>\n",
              "    </tr>\n",
              "    <tr>\n",
              "      <th>2</th>\n",
              "      <td>20fa1d9e-94d6-4d82-aa23-c52b6ac89ec5</td>\n",
              "      <td>Brian</td>\n",
              "      <td>https://play-lh.googleusercontent.com/a/AGNmyx...</td>\n",
              "      <td>Used t be free bt now it's pay for everything.</td>\n",
              "      <td>3</td>\n",
              "      <td>0</td>\n",
              "      <td>23.6.0</td>\n",
              "      <td>2023-04-12 15:52:32</td>\n",
              "      <td>Hi Brian! We do apologize for the confusion. T...</td>\n",
              "      <td>2023-04-12 17:15:20</td>\n",
              "    </tr>\n",
              "    <tr>\n",
              "      <th>3</th>\n",
              "      <td>ebebd401-ce30-41bf-aab5-62450058d69b</td>\n",
              "      <td>V S</td>\n",
              "      <td>https://play-lh.googleusercontent.com/a/AGNmyx...</td>\n",
              "      <td>I love it. it helped me lose 20 lbs and tracks...</td>\n",
              "      <td>5</td>\n",
              "      <td>0</td>\n",
              "      <td>23.5.0</td>\n",
              "      <td>2023-04-12 15:30:30</td>\n",
              "      <td>Thank you for your review of MyFitnessPal, we ...</td>\n",
              "      <td>2023-04-12 17:14:35</td>\n",
              "    </tr>\n",
              "    <tr>\n",
              "      <th>4</th>\n",
              "      <td>35011d11-642c-48cd-b479-ea919d55ac27</td>\n",
              "      <td>Taylor Jones</td>\n",
              "      <td>https://play-lh.googleusercontent.com/a/AGNmyx...</td>\n",
              "      <td>With the help of the workout and meal tracking...</td>\n",
              "      <td>5</td>\n",
              "      <td>0</td>\n",
              "      <td>23.6.0</td>\n",
              "      <td>2023-04-12 15:16:34</td>\n",
              "      <td>Hi Taylor, we are thrilled to hear you have be...</td>\n",
              "      <td>2023-04-12 17:14:19</td>\n",
              "    </tr>\n",
              "  </tbody>\n",
              "</table>\n",
              "</div>\n",
              "      <button class=\"colab-df-convert\" onclick=\"convertToInteractive('df-b3611626-0ea7-477e-bfc0-2df2446b10be')\"\n",
              "              title=\"Convert this dataframe to an interactive table.\"\n",
              "              style=\"display:none;\">\n",
              "        \n",
              "  <svg xmlns=\"http://www.w3.org/2000/svg\" height=\"24px\"viewBox=\"0 0 24 24\"\n",
              "       width=\"24px\">\n",
              "    <path d=\"M0 0h24v24H0V0z\" fill=\"none\"/>\n",
              "    <path d=\"M18.56 5.44l.94 2.06.94-2.06 2.06-.94-2.06-.94-.94-2.06-.94 2.06-2.06.94zm-11 1L8.5 8.5l.94-2.06 2.06-.94-2.06-.94L8.5 2.5l-.94 2.06-2.06.94zm10 10l.94 2.06.94-2.06 2.06-.94-2.06-.94-.94-2.06-.94 2.06-2.06.94z\"/><path d=\"M17.41 7.96l-1.37-1.37c-.4-.4-.92-.59-1.43-.59-.52 0-1.04.2-1.43.59L10.3 9.45l-7.72 7.72c-.78.78-.78 2.05 0 2.83L4 21.41c.39.39.9.59 1.41.59.51 0 1.02-.2 1.41-.59l7.78-7.78 2.81-2.81c.8-.78.8-2.07 0-2.86zM5.41 20L4 18.59l7.72-7.72 1.47 1.35L5.41 20z\"/>\n",
              "  </svg>\n",
              "      </button>\n",
              "      \n",
              "  <style>\n",
              "    .colab-df-container {\n",
              "      display:flex;\n",
              "      flex-wrap:wrap;\n",
              "      gap: 12px;\n",
              "    }\n",
              "\n",
              "    .colab-df-convert {\n",
              "      background-color: #E8F0FE;\n",
              "      border: none;\n",
              "      border-radius: 50%;\n",
              "      cursor: pointer;\n",
              "      display: none;\n",
              "      fill: #1967D2;\n",
              "      height: 32px;\n",
              "      padding: 0 0 0 0;\n",
              "      width: 32px;\n",
              "    }\n",
              "\n",
              "    .colab-df-convert:hover {\n",
              "      background-color: #E2EBFA;\n",
              "      box-shadow: 0px 1px 2px rgba(60, 64, 67, 0.3), 0px 1px 3px 1px rgba(60, 64, 67, 0.15);\n",
              "      fill: #174EA6;\n",
              "    }\n",
              "\n",
              "    [theme=dark] .colab-df-convert {\n",
              "      background-color: #3B4455;\n",
              "      fill: #D2E3FC;\n",
              "    }\n",
              "\n",
              "    [theme=dark] .colab-df-convert:hover {\n",
              "      background-color: #434B5C;\n",
              "      box-shadow: 0px 1px 3px 1px rgba(0, 0, 0, 0.15);\n",
              "      filter: drop-shadow(0px 1px 2px rgba(0, 0, 0, 0.3));\n",
              "      fill: #FFFFFF;\n",
              "    }\n",
              "  </style>\n",
              "\n",
              "      <script>\n",
              "        const buttonEl =\n",
              "          document.querySelector('#df-b3611626-0ea7-477e-bfc0-2df2446b10be button.colab-df-convert');\n",
              "        buttonEl.style.display =\n",
              "          google.colab.kernel.accessAllowed ? 'block' : 'none';\n",
              "\n",
              "        async function convertToInteractive(key) {\n",
              "          const element = document.querySelector('#df-b3611626-0ea7-477e-bfc0-2df2446b10be');\n",
              "          const dataTable =\n",
              "            await google.colab.kernel.invokeFunction('convertToInteractive',\n",
              "                                                     [key], {});\n",
              "          if (!dataTable) return;\n",
              "\n",
              "          const docLinkHtml = 'Like what you see? Visit the ' +\n",
              "            '<a target=\"_blank\" href=https://colab.research.google.com/notebooks/data_table.ipynb>data table notebook</a>'\n",
              "            + ' to learn more about interactive tables.';\n",
              "          element.innerHTML = '';\n",
              "          dataTable['output_type'] = 'display_data';\n",
              "          await google.colab.output.renderOutput(dataTable, element);\n",
              "          const docLink = document.createElement('div');\n",
              "          docLink.innerHTML = docLinkHtml;\n",
              "          element.appendChild(docLink);\n",
              "        }\n",
              "      </script>\n",
              "    </div>\n",
              "  </div>\n",
              "  "
            ]
          },
          "metadata": {},
          "execution_count": 6
        }
      ],
      "source": [
        "# Convert collected reviews data into dataframe\n",
        "df_reviews = pd.DataFrame(np.array(hk_users_reviews),columns=['review'])\n",
        "df_reviews = df_reviews.join(pd.DataFrame(df_reviews.pop('review').tolist()))\n",
        "# Display dataframe header\n",
        "df_reviews.head()"
      ],
      "id": "b27bb340"
    },
    {
      "cell_type": "code",
      "execution_count": null,
      "metadata": {
        "colab": {
          "base_uri": "https://localhost:8080/"
        },
        "id": "70661567",
        "outputId": "9ef56d18-d27c-4288-b2a3-030104055cf1"
      },
      "outputs": [
        {
          "output_type": "stream",
          "name": "stdout",
          "text": [
            "<class 'pandas.core.frame.DataFrame'>\n",
            "RangeIndex: 15920 entries, 0 to 15919\n",
            "Data columns (total 10 columns):\n",
            " #   Column                Non-Null Count  Dtype         \n",
            "---  ------                --------------  -----         \n",
            " 0   reviewId              15920 non-null  object        \n",
            " 1   userName              15920 non-null  object        \n",
            " 2   userImage             15920 non-null  object        \n",
            " 3   content               15920 non-null  object        \n",
            " 4   score                 15920 non-null  int64         \n",
            " 5   thumbsUpCount         15920 non-null  int64         \n",
            " 6   reviewCreatedVersion  14107 non-null  object        \n",
            " 7   at                    15920 non-null  datetime64[ns]\n",
            " 8   replyContent          14801 non-null  object        \n",
            " 9   repliedAt             14801 non-null  datetime64[ns]\n",
            "dtypes: datetime64[ns](2), int64(2), object(6)\n",
            "memory usage: 1.2+ MB\n"
          ]
        }
      ],
      "source": [
        "# Check dataframe information\n",
        "df_reviews.info()"
      ],
      "id": "70661567"
    },
    {
      "cell_type": "code",
      "execution_count": null,
      "metadata": {
        "colab": {
          "base_uri": "https://localhost:8080/"
        },
        "id": "8ae997d4",
        "outputId": "3aa7a42f-c9c8-4fef-d96e-20be7635bf03"
      },
      "outputs": [
        {
          "output_type": "execute_result",
          "data": {
            "text/plain": [
              "1    9553\n",
              "2    2367\n",
              "5    1963\n",
              "3    1255\n",
              "4     782\n",
              "Name: score, dtype: int64"
            ]
          },
          "metadata": {},
          "execution_count": 8
        }
      ],
      "source": [
        "# Count number of review scores\n",
        "df_reviews['score'].value_counts()"
      ],
      "id": "8ae997d4"
    },
    {
      "cell_type": "code",
      "execution_count": null,
      "metadata": {
        "colab": {
          "base_uri": "https://localhost:8080/",
          "height": 671
        },
        "id": "f2218953",
        "outputId": "32a54b97-940c-4711-87fe-767749e435c4"
      },
      "outputs": [
        {
          "output_type": "execute_result",
          "data": {
            "text/plain": [
              "<Axes: ylabel='score'>"
            ]
          },
          "metadata": {},
          "execution_count": 9
        },
        {
          "output_type": "display_data",
          "data": {
            "text/plain": [
              "<Figure size 800x800 with 1 Axes>"
            ],
            "image/png": "[encoded data removed]"
          },
          "metadata": {}
        }
      ],
      "source": [
        "# Visualize review scores as pie chart\n",
        "df_reviews['score'].value_counts().plot(kind='pie',figsize=(8,8), autopct='%1.1f%%')"
      ],
      "id": "f2218953"
    },
    {
      "cell_type": "code",
      "execution_count": null,
      "metadata": {
        "id": "dbfdd25c"
      },
      "outputs": [],
      "source": [
        "# Create new dataframe with review content and score for further analysis\n",
        "df_reviews_content = pd.DataFrame(df_reviews, columns=['content','score'])"
      ],
      "id": "dbfdd25c"
    },
    {
      "cell_type": "code",
      "execution_count": null,
      "metadata": {
        "colab": {
          "base_uri": "https://localhost:8080/",
          "height": 519
        },
        "id": "3688aa37",
        "outputId": "2364def9-b616-429e-ed82-08ac4b89a9d8"
      },
      "outputs": [
        {
          "output_type": "execute_result",
          "data": {
            "text/plain": [
              "                                              content  score\n",
              "0   $20/month for premium?!? Are you kidding me? N...      1\n",
              "1   I used the unpaid version. You can't edit or s...      1\n",
              "2      Used t be free bt now it's pay for everything.      3\n",
              "3   I love it. it helped me lose 20 lbs and tracks...      5\n",
              "4   With the help of the workout and meal tracking...      5\n",
              "5                 very good app for tracking calories      4\n",
              "6           I have canceled and keep getting charged.      1\n",
              "7   Edit: not sure if the problem below was fixed,...      5\n",
              "8   The net carbs tracking is WILDLY inaccurate so...      1\n",
              "9   Had to change from a 5 to a 1. Too many adds n...      1\n",
              "10                                .........it's ok ig      1\n",
              "11  Used to use this and they made free features p...      1\n",
              "12        Ridiculously limited unless you go premium.      2\n",
              "13  food products should be by country and pre loa...      4\n",
              "14  I can't download the app because of the reason...      3"
            ],
            "text/html": [
              "\n",
              "  <div id=\"df-62893068-0749-494f-8269-8f79c9a1e722\">\n",
              "    <div class=\"colab-df-container\">\n",
              "      <div>\n",
              "<style scoped>\n",
              "    .dataframe tbody tr th:only-of-type {\n",
              "        vertical-align: middle;\n",
              "    }\n",
              "\n",
              "    .dataframe tbody tr th {\n",
              "        vertical-align: top;\n",
              "    }\n",
              "\n",
              "    .dataframe thead th {\n",
              "        text-align: right;\n",
              "    }\n",
              "</style>\n",
              "<table border=\"1\" class=\"dataframe\">\n",
              "  <thead>\n",
              "    <tr style=\"text-align: right;\">\n",
              "      <th></th>\n",
              "      <th>content</th>\n",
              "      <th>score</th>\n",
              "    </tr>\n",
              "  </thead>\n",
              "  <tbody>\n",
              "    <tr>\n",
              "      <th>0</th>\n",
              "      <td>$20/month for premium?!? Are you kidding me? N...</td>\n",
              "      <td>1</td>\n",
              "    </tr>\n",
              "    <tr>\n",
              "      <th>1</th>\n",
              "      <td>I used the unpaid version. You can't edit or s...</td>\n",
              "      <td>1</td>\n",
              "    </tr>\n",
              "    <tr>\n",
              "      <th>2</th>\n",
              "      <td>Used t be free bt now it's pay for everything.</td>\n",
              "      <td>3</td>\n",
              "    </tr>\n",
              "    <tr>\n",
              "      <th>3</th>\n",
              "      <td>I love it. it helped me lose 20 lbs and tracks...</td>\n",
              "      <td>5</td>\n",
              "    </tr>\n",
              "    <tr>\n",
              "      <th>4</th>\n",
              "      <td>With the help of the workout and meal tracking...</td>\n",
              "      <td>5</td>\n",
              "    </tr>\n",
              "    <tr>\n",
              "      <th>5</th>\n",
              "      <td>very good app for tracking calories</td>\n",
              "      <td>4</td>\n",
              "    </tr>\n",
              "    <tr>\n",
              "      <th>6</th>\n",
              "      <td>I have canceled and keep getting charged.</td>\n",
              "      <td>1</td>\n",
              "    </tr>\n",
              "    <tr>\n",
              "      <th>7</th>\n",
              "      <td>Edit: not sure if the problem below was fixed,...</td>\n",
              "      <td>5</td>\n",
              "    </tr>\n",
              "    <tr>\n",
              "      <th>8</th>\n",
              "      <td>The net carbs tracking is WILDLY inaccurate so...</td>\n",
              "      <td>1</td>\n",
              "    </tr>\n",
              "    <tr>\n",
              "      <th>9</th>\n",
              "      <td>Had to change from a 5 to a 1. Too many adds n...</td>\n",
              "      <td>1</td>\n",
              "    </tr>\n",
              "    <tr>\n",
              "      <th>10</th>\n",
              "      <td>.........it's ok ig</td>\n",
              "      <td>1</td>\n",
              "    </tr>\n",
              "    <tr>\n",
              "      <th>11</th>\n",
              "      <td>Used to use this and they made free features p...</td>\n",
              "      <td>1</td>\n",
              "    </tr>\n",
              "    <tr>\n",
              "      <th>12</th>\n",
              "      <td>Ridiculously limited unless you go premium.</td>\n",
              "      <td>2</td>\n",
              "    </tr>\n",
              "    <tr>\n",
              "      <th>13</th>\n",
              "      <td>food products should be by country and pre loa...</td>\n",
              "      <td>4</td>\n",
              "    </tr>\n",
              "    <tr>\n",
              "      <th>14</th>\n",
              "      <td>I can't download the app because of the reason...</td>\n",
              "      <td>3</td>\n",
              "    </tr>\n",
              "  </tbody>\n",
              "</table>\n",
              "</div>\n",
              "      <button class=\"colab-df-convert\" onclick=\"convertToInteractive('df-62893068-0749-494f-8269-8f79c9a1e722')\"\n",
              "              title=\"Convert this dataframe to an interactive table.\"\n",
              "              style=\"display:none;\">\n",
              "        \n",
              "  <svg xmlns=\"http://www.w3.org/2000/svg\" height=\"24px\"viewBox=\"0 0 24 24\"\n",
              "       width=\"24px\">\n",
              "    <path d=\"M0 0h24v24H0V0z\" fill=\"none\"/>\n",
              "    <path d=\"M18.56 5.44l.94 2.06.94-2.06 2.06-.94-2.06-.94-.94-2.06-.94 2.06-2.06.94zm-11 1L8.5 8.5l.94-2.06 2.06-.94-2.06-.94L8.5 2.5l-.94 2.06-2.06.94zm10 10l.94 2.06.94-2.06 2.06-.94-2.06-.94-.94-2.06-.94 2.06-2.06.94z\"/><path d=\"M17.41 7.96l-1.37-1.37c-.4-.4-.92-.59-1.43-.59-.52 0-1.04.2-1.43.59L10.3 9.45l-7.72 7.72c-.78.78-.78 2.05 0 2.83L4 21.41c.39.39.9.59 1.41.59.51 0 1.02-.2 1.41-.59l7.78-7.78 2.81-2.81c.8-.78.8-2.07 0-2.86zM5.41 20L4 18.59l7.72-7.72 1.47 1.35L5.41 20z\"/>\n",
              "  </svg>\n",
              "      </button>\n",
              "      \n",
              "  <style>\n",
              "    .colab-df-container {\n",
              "      display:flex;\n",
              "      flex-wrap:wrap;\n",
              "      gap: 12px;\n",
              "    }\n",
              "\n",
              "    .colab-df-convert {\n",
              "      background-color: #E8F0FE;\n",
              "      border: none;\n",
              "      border-radius: 50%;\n",
              "      cursor: pointer;\n",
              "      display: none;\n",
              "      fill: #1967D2;\n",
              "      height: 32px;\n",
              "      padding: 0 0 0 0;\n",
              "      width: 32px;\n",
              "    }\n",
              "\n",
              "    .colab-df-convert:hover {\n",
              "      background-color: #E2EBFA;\n",
              "      box-shadow: 0px 1px 2px rgba(60, 64, 67, 0.3), 0px 1px 3px 1px rgba(60, 64, 67, 0.15);\n",
              "      fill: #174EA6;\n",
              "    }\n",
              "\n",
              "    [theme=dark] .colab-df-convert {\n",
              "      background-color: #3B4455;\n",
              "      fill: #D2E3FC;\n",
              "    }\n",
              "\n",
              "    [theme=dark] .colab-df-convert:hover {\n",
              "      background-color: #434B5C;\n",
              "      box-shadow: 0px 1px 3px 1px rgba(0, 0, 0, 0.15);\n",
              "      filter: drop-shadow(0px 1px 2px rgba(0, 0, 0, 0.3));\n",
              "      fill: #FFFFFF;\n",
              "    }\n",
              "  </style>\n",
              "\n",
              "      <script>\n",
              "        const buttonEl =\n",
              "          document.querySelector('#df-62893068-0749-494f-8269-8f79c9a1e722 button.colab-df-convert');\n",
              "        buttonEl.style.display =\n",
              "          google.colab.kernel.accessAllowed ? 'block' : 'none';\n",
              "\n",
              "        async function convertToInteractive(key) {\n",
              "          const element = document.querySelector('#df-62893068-0749-494f-8269-8f79c9a1e722');\n",
              "          const dataTable =\n",
              "            await google.colab.kernel.invokeFunction('convertToInteractive',\n",
              "                                                     [key], {});\n",
              "          if (!dataTable) return;\n",
              "\n",
              "          const docLinkHtml = 'Like what you see? Visit the ' +\n",
              "            '<a target=\"_blank\" href=https://colab.research.google.com/notebooks/data_table.ipynb>data table notebook</a>'\n",
              "            + ' to learn more about interactive tables.';\n",
              "          element.innerHTML = '';\n",
              "          dataTable['output_type'] = 'display_data';\n",
              "          await google.colab.output.renderOutput(dataTable, element);\n",
              "          const docLink = document.createElement('div');\n",
              "          docLink.innerHTML = docLinkHtml;\n",
              "          element.appendChild(docLink);\n",
              "        }\n",
              "      </script>\n",
              "    </div>\n",
              "  </div>\n",
              "  "
            ]
          },
          "metadata": {},
          "execution_count": 12
        }
      ],
      "source": [
        "# Display new dataframe header\n",
        "df_reviews_content.head(15)"
      ],
      "id": "3688aa37"
    },
    {
      "cell_type": "code",
      "execution_count": null,
      "metadata": {
        "id": "40a1084f"
      },
      "outputs": [],
      "source": [
        "# # Define and configure Google Play Scraper library\n",
        "# # app_package_name = 'com.google.android.youtube'\n",
        "# app_package_name = 'com.aiahk.idirect'\n",
        "# reviews = reviews_all(\n",
        "#     app_package_name,\n",
        "#     sleep_milliseconds=0,\n",
        "# #     lang='en',\n",
        "#     country='us',\n",
        "#     sort=Sort.NEWEST,\n",
        "#     count=1\n",
        "# )\n"
      ],
      "id": "40a1084f"
    },
    {
      "cell_type": "code",
      "execution_count": null,
      "metadata": {
        "colab": {
          "base_uri": "https://localhost:8080/"
        },
        "id": "4ba0e87c",
        "outputId": "a81aabdf-a76c-4002-a792-2660048855e4"
      },
      "outputs": [
        {
          "output_type": "stream",
          "name": "stderr",
          "text": [
            "[nltk_data] Downloading package stopwords to /root/nltk_data...\n",
            "[nltk_data]   Unzipping corpora/stopwords.zip.\n",
            "[nltk_data] Downloading package punkt to /root/nltk_data...\n",
            "[nltk_data]   Unzipping tokenizers/punkt.zip.\n"
          ]
        },
        {
          "output_type": "execute_result",
          "data": {
            "text/plain": [
              "True"
            ]
          },
          "metadata": {},
          "execution_count": 13
        }
      ],
      "source": [
        "import nltk\n",
        "from nltk.corpus import stopwords\n",
        "from nltk.tokenize import word_tokenize\n",
        "from nltk.stem import SnowballStemmer\n",
        "from sklearn.model_selection import train_test_split\n",
        "from sklearn.naive_bayes import MultinomialNB\n",
        "from sklearn.metrics import confusion_matrix, classification_report\n",
        "import nltk\n",
        "nltk.download('stopwords')\n",
        "nltk.download('punkt')"
      ],
      "id": "4ba0e87c"
    },
    {
      "cell_type": "code",
      "execution_count": null,
      "metadata": {
        "colab": {
          "base_uri": "https://localhost:8080/"
        },
        "id": "e1804e90",
        "outputId": "972baf64-1c90-4c99-e7d7-6d91c2f5ab7d"
      },
      "outputs": [
        {
          "output_type": "stream",
          "name": "stdout",
          "text": [
            "Confusion Matrix:\n",
            " [[2212  179]\n",
            " [ 339  454]]\n",
            "Classification Report:\n",
            "               precision    recall  f1-score   support\n",
            "\n",
            "    negative       0.87      0.93      0.90      2391\n",
            "    positive       0.72      0.57      0.64       793\n",
            "\n",
            "    accuracy                           0.84      3184\n",
            "   macro avg       0.79      0.75      0.77      3184\n",
            "weighted avg       0.83      0.84      0.83      3184\n",
            "\n",
            "Accuracy: 0.8373115577889447\n",
            "Precision: 0.717219589257504\n",
            "Recall: 0.5725094577553594\n",
            "F1 score: 0.6367461430575035\n"
          ]
        }
      ],
      "source": [
        "import requests\n",
        "from bs4 import BeautifulSoup\n",
        "from sklearn.feature_extraction.text import CountVectorizer\n",
        "from sklearn.model_selection import train_test_split\n",
        "from sklearn.naive_bayes import MultinomialNB\n",
        "from sklearn.metrics import accuracy_score, precision_score, recall_score, f1_score\n",
        "\n",
        "\n",
        "# # Convert collected reviews data into dataframe\n",
        "# df_reviews = pd.DataFrame(reviews)\n",
        "\n",
        "# Label reviews as positive or negative based on rating\n",
        "df_reviews['label'] = np.where(df_reviews['score'].isin([1,2]), 'negative', 'positive')\n",
        "\n",
        "# Apply tokenization and stemming to review text\n",
        "stop_words = set(stopwords.words('english'))\n",
        "stemmer = SnowballStemmer('english')\n",
        "df_reviews['tokens'] = df_reviews['content'].apply(lambda x: [stemmer.stem(word.lower()) for word in word_tokenize(x) if word.lower() not in stop_words])\n",
        "\n",
        "# Split data into training and testing sets\n",
        "X = df_reviews['tokens']\n",
        "y = df_reviews['label']\n",
        "X_train, X_test, y_train, y_test = train_test_split(X, y, test_size=0.2, random_state=42)\n",
        "\n",
        "# Create bag-of-words representation for training data\n",
        "from sklearn.feature_extraction.text import CountVectorizer\n",
        "cv = CountVectorizer()\n",
        "X_train_bow = cv.fit_transform(X_train.apply(lambda x: ' '.join(x)))\n",
        "\n",
        "# Train an NBC classifier on the training data\n",
        "nb = MultinomialNB()\n",
        "nb.fit(X_train_bow, y_train)\n",
        "\n",
        "# Evaluate performance on the testing data\n",
        "X_test_bow = cv.transform(X_test.apply(lambda x: ' '.join(x)))\n",
        "y_pred = nb.predict(X_test_bow)\n",
        "print('Confusion Matrix:\\n', confusion_matrix(y_test, y_pred))\n",
        "print('Classification Report:\\n', classification_report(y_test, y_pred))\n",
        "\n",
        "\n",
        "# Train a Naive Bayes Classifier on the training data\n",
        "clf = MultinomialNB()\n",
        "clf.fit(X_train_bow, y_train)\n",
        "\n",
        "# Evaluate the performance of the classifier on the testing data\n",
        "y_pred = clf.predict(X_test_bow)\n",
        "accuracy = accuracy_score(y_test, y_pred)\n",
        "precision = precision_score(y_test, y_pred, pos_label='positive')\n",
        "recall = recall_score(y_test, y_pred, pos_label='positive')\n",
        "f1 = f1_score(y_test, y_pred, pos_label='positive')\n",
        "\n",
        "print(\"Accuracy:\", accuracy)\n",
        "print(\"Precision:\", precision)\n",
        "print(\"Recall:\", recall)\n",
        "print(\"F1 score:\", f1)\n"
      ],
      "id": "e1804e90"
    },
    {
      "cell_type": "code",
      "source": [
        "import matplotlib.pyplot as plt\n",
        "from sklearn.metrics import roc_curve, auc\n",
        "\n",
        "fpr, tpr, thresholds = roc_curve(y_true, y_score)\n",
        "roc_auc = auc(fpr, tpr)\n",
        "\n",
        "plt.figure(figsize=(8, 8))\n",
        "plt.plot(fpr, tpr, color='darkorange', lw=2, label='ROC curve (AUC = %0.2f)' % roc_auc)\n",
        "plt.plot([0, 1], [0, 1], color='navy', lw=2, linestyle='--')\n",
        "plt.xlim([0.0, 1.0])\n",
        "plt.ylim([0.0, 1.05])\n",
        "plt.xlabel('False Positive Rate')\n",
        "plt.ylabel('True Positive Rate')\n",
        "plt.title('Receiver operating characteristic (ROC) curve')\n",
        "plt.legend(loc=\"lower right\")\n",
        "plt.show()\n"
      ],
      "metadata": {
        "id": "8XlnWiHcqFBL"
      },
      "id": "8XlnWiHcqFBL",
      "execution_count": null,
      "outputs": []
    },
    {
      "cell_type": "code",
      "execution_count": null,
      "metadata": {
        "colab": {
          "base_uri": "https://localhost:8080/",
          "height": 468
        },
        "id": "b5f24c61",
        "outputId": "d35bcb47-8b86-4bda-b3a7-6b160477ff06"
      },
      "outputs": [
        {
          "output_type": "display_data",
          "data": {
            "text/plain": [
              "<Figure size 640x480 with 2 Axes>"
            ],
            "image/png": "[encoded data removed]"
          },
          "metadata": {}
        }
      ],
      "source": [
        "import seaborn as sns\n",
        "import matplotlib.pyplot as plt\n",
        "\n",
        "# Create confusion matrix\n",
        "cm = confusion_matrix(y_test, y_pred)\n",
        "\n",
        "# Plot confusion matrix\n",
        "sns.set(font_scale=1.4)\n",
        "sns.heatmap(cm, annot=True, annot_kws={\"size\": 16}, cmap='Blues', fmt='g')\n",
        "plt.xlabel('Predicted Label')\n",
        "plt.ylabel('True Label')\n",
        "plt.show()\n"
      ],
      "id": "b5f24c61"
    },
    {
      "cell_type": "markdown",
      "metadata": {
        "id": "13ad156d"
      },
      "source": [
        "Extra"
      ],
      "id": "13ad156d"
    },
    {
      "cell_type": "code",
      "execution_count": null,
      "metadata": {
        "colab": {
          "base_uri": "https://localhost:8080/"
        },
        "id": "192851d3",
        "outputId": "f1f87fb5-2f91-463c-dd8b-e21179e5494e"
      },
      "outputs": [
        {
          "name": "stdout",
          "output_type": "stream",
          "text": [
            "SVM Classifier:\n",
            "\n",
            "Confusion Matrix:\n",
            " [[49  6]\n",
            " [10 12]]\n",
            "Classification Report:\n",
            "               precision    recall  f1-score   support\n",
            "\n",
            "    negative       0.83      0.89      0.86        55\n",
            "    positive       0.67      0.55      0.60        22\n",
            "\n",
            "    accuracy                           0.79        77\n",
            "   macro avg       0.75      0.72      0.73        77\n",
            "weighted avg       0.78      0.79      0.79        77\n",
            "\n",
            "Random Forest Classifier:\n",
            "\n",
            "Confusion Matrix:\n",
            " [[49  6]\n",
            " [ 9 13]]\n",
            "Classification Report:\n",
            "               precision    recall  f1-score   support\n",
            "\n",
            "    negative       0.84      0.89      0.87        55\n",
            "    positive       0.68      0.59      0.63        22\n",
            "\n",
            "    accuracy                           0.81        77\n",
            "   macro avg       0.76      0.74      0.75        77\n",
            "weighted avg       0.80      0.81      0.80        77\n",
            "\n"
          ]
        }
      ],
      "source": [
        "# SVM Classifier\n",
        "from sklearn.svm import SVC\n",
        "svm = SVC(kernel='linear', C=1.0)\n",
        "svm.fit(X_train_bow, y_train)\n",
        "y_pred = svm.predict(X_test_bow)\n",
        "print('SVM Classifier:\\n')\n",
        "print('Confusion Matrix:\\n', confusion_matrix(y_test, y_pred))\n",
        "print('Classification Report:\\n', classification_report(y_test, y_pred))\n",
        "\n",
        "# Random Forest Classifier\n",
        "from sklearn.ensemble import RandomForestClassifier\n",
        "rf = RandomForestClassifier(n_estimators=100, random_state=42)\n",
        "rf.fit(X_train_bow, y_train)\n",
        "y_pred = rf.predict(X_test_bow)\n",
        "print('Random Forest Classifier:\\n')\n",
        "print('Confusion Matrix:\\n', confusion_matrix(y_test, y_pred))\n",
        "print('Classification Report:\\n', classification_report(y_test, y_pred))\n"
      ],
      "id": "192851d3"
    },
    {
      "cell_type": "code",
      "execution_count": null,
      "metadata": {
        "colab": {
          "base_uri": "https://localhost:8080/"
        },
        "id": "ad2685e2",
        "outputId": "c416deca-8082-4ecb-dbb6-ca34c3756b96"
      },
      "outputs": [
        {
          "name": "stderr",
          "output_type": "stream",
          "text": [
            "[nltk_data] Downloading package wordnet to /root/nltk_data...\n",
            "[nltk_data] Downloading package omw-1.4 to /root/nltk_data...\n"
          ]
        }
      ],
      "source": [
        "nltk.download('wordnet')\n",
        "nltk.download('omw-1.4')\n",
        "# Lemmatization\n",
        "from nltk.stem import WordNetLemmatizer\n",
        "lemmatizer = WordNetLemmatizer()\n",
        "df_reviews['tokens'] = df_reviews['content'].apply(lambda x: [lemmatizer.lemmatize(word.lower()) for word in word_tokenize(x) if word.lower() not in stop_words])\n",
        "\n",
        "# Removing rare words\n",
        "cv = CountVectorizer(min_df=5)\n",
        "X_train_bow = cv.fit_transform(X_train.apply(lambda x: ' '.join(x)))\n",
        "\n",
        "# Using a different stopword list\n",
        "custom_stop_words = set(stopwords.words('english')).union({'one', 'two', 'even', 'get', 'go', 'make', 'come', 'much'})\n",
        "df_reviews['tokens'] = df_reviews['content'].apply(lambda x: [stemmer.stem(word.lower()) for word in word_tokenize(x) if word.lower() not in custom_stop_words])\n"
      ],
      "id": "ad2685e2"
    },
    {
      "cell_type": "code",
      "execution_count": null,
      "metadata": {
        "colab": {
          "base_uri": "https://localhost:8080/"
        },
        "id": "16ffa932",
        "outputId": "397df913-b1fd-4ac0-d25d-0829e17bc939"
      },
      "outputs": [
        {
          "name": "stdout",
          "output_type": "stream",
          "text": [
            "Confusion Matrix:\n",
            " [[54  1]\n",
            " [14  8]]\n",
            "Classification Report:\n",
            "               precision    recall  f1-score   support\n",
            "\n",
            "    negative       0.79      0.98      0.88        55\n",
            "    positive       0.89      0.36      0.52        22\n",
            "\n",
            "    accuracy                           0.81        77\n",
            "   macro avg       0.84      0.67      0.70        77\n",
            "weighted avg       0.82      0.81      0.77        77\n",
            "\n"
          ]
        }
      ],
      "source": [
        "from sklearn.feature_extraction.text import TfidfVectorizer\n",
        "tfidf = TfidfVectorizer()\n",
        "X_train_tfidf = tfidf.fit_transform(X_train.apply(lambda x: ' '.join(x)))\n",
        "nb = MultinomialNB()\n",
        "nb.fit(X_train_tfidf, y_train)\n",
        "X_test_tfidf = tfidf.transform(X_test.apply(lambda x: ' '.join(x)))\n",
        "y_pred = nb.predict(X_test_tfidf)\n",
        "print('Confusion Matrix:\\n', confusion_matrix(y_test, y_pred))\n",
        "print('Classification Report:\\n', classification_report(y_test, y_pred))\n"
      ],
      "id": "16ffa932"
    }
  ],
  "metadata": {
    "colab": {
      "provenance": [],
      "include_colab_link": true
    },
    "kernelspec": {
      "display_name": "Python 3 (ipykernel)",
      "language": "python",
      "name": "python3"
    },
    "language_info": {
      "codemirror_mode": {
        "name": "ipython",
        "version": 3
      },
      "file_extension": ".py",
      "mimetype": "text/x-python",
      "name": "python",
      "nbconvert_exporter": "python",
      "pygments_lexer": "ipython3",
      "version": "3.9.13"
    }
  },
  "nbformat": 4,
  "nbformat_minor": 5
}